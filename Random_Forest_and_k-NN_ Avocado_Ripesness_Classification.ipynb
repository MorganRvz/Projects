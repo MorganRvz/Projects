{
 "cells": [
  {
   "cell_type": "markdown",
   "id": "e40c58b3",
   "metadata": {},
   "source": [
    "Loaded the libraries"
   ]
  },
  {
   "cell_type": "code",
   "execution_count": 75,
   "id": "bd4cf446",
   "metadata": {},
   "outputs": [],
   "source": [
    "import numpy as np\n",
    "import pandas as pd \n",
    "import seaborn as sns\n",
    "import matplotlib.pyplot as plt\n",
    "from sklearn.model_selection import train_test_split, GridSearchCV\n",
    "from sklearn.preprocessing import StandardScaler, OneHotEncoder\n",
    "from sklearn.neighbors import KNeighborsClassifier\n",
    "from sklearn.metrics import classification_report, confusion_matrix\n",
    "from sklearn.ensemble import RandomForestClassifier\n",
    "from sklearn.compose import ColumnTransformer\n",
    "from sklearn.pipeline import Pipeline"
   ]
  },
  {
   "cell_type": "markdown",
   "id": "b0ac8260",
   "metadata": {},
   "source": [
    "Loaded the Data"
   ]
  },
  {
   "cell_type": "code",
   "execution_count": 76,
   "id": "72d7fcc2",
   "metadata": {},
   "outputs": [],
   "source": [
    "df = pd.read_excel(\"avocado_ripeness_dataset.xlsx\")"
   ]
  },
  {
   "cell_type": "markdown",
   "id": "b3820d14",
   "metadata": {},
   "source": [
    "Exploring the Data"
   ]
  },
  {
   "cell_type": "code",
   "execution_count": 77,
   "id": "149ad6b4",
   "metadata": {},
   "outputs": [
    {
     "data": {
      "text/html": [
       "<div>\n",
       "<style scoped>\n",
       "    .dataframe tbody tr th:only-of-type {\n",
       "        vertical-align: middle;\n",
       "    }\n",
       "\n",
       "    .dataframe tbody tr th {\n",
       "        vertical-align: top;\n",
       "    }\n",
       "\n",
       "    .dataframe thead th {\n",
       "        text-align: right;\n",
       "    }\n",
       "</style>\n",
       "<table border=\"1\" class=\"dataframe\">\n",
       "  <thead>\n",
       "    <tr style=\"text-align: right;\">\n",
       "      <th></th>\n",
       "      <th>firmness</th>\n",
       "      <th>hue</th>\n",
       "      <th>saturation</th>\n",
       "      <th>brightness</th>\n",
       "      <th>color_category</th>\n",
       "      <th>sound_db</th>\n",
       "      <th>weight_g</th>\n",
       "      <th>size_cm3</th>\n",
       "      <th>ripeness</th>\n",
       "    </tr>\n",
       "  </thead>\n",
       "  <tbody>\n",
       "    <tr>\n",
       "      <th>0</th>\n",
       "      <td>14.5</td>\n",
       "      <td>19</td>\n",
       "      <td>40</td>\n",
       "      <td>26</td>\n",
       "      <td>black</td>\n",
       "      <td>34</td>\n",
       "      <td>175</td>\n",
       "      <td>261</td>\n",
       "      <td>ripe</td>\n",
       "    </tr>\n",
       "    <tr>\n",
       "      <th>1</th>\n",
       "      <td>71.7</td>\n",
       "      <td>53</td>\n",
       "      <td>69</td>\n",
       "      <td>75</td>\n",
       "      <td>green</td>\n",
       "      <td>69</td>\n",
       "      <td>206</td>\n",
       "      <td>185</td>\n",
       "      <td>pre-conditioned</td>\n",
       "    </tr>\n",
       "    <tr>\n",
       "      <th>2</th>\n",
       "      <td>88.5</td>\n",
       "      <td>60</td>\n",
       "      <td>94</td>\n",
       "      <td>46</td>\n",
       "      <td>dark green</td>\n",
       "      <td>79</td>\n",
       "      <td>220</td>\n",
       "      <td>143</td>\n",
       "      <td>hard</td>\n",
       "    </tr>\n",
       "    <tr>\n",
       "      <th>3</th>\n",
       "      <td>93.8</td>\n",
       "      <td>105</td>\n",
       "      <td>87</td>\n",
       "      <td>41</td>\n",
       "      <td>dark green</td>\n",
       "      <td>75</td>\n",
       "      <td>299</td>\n",
       "      <td>140</td>\n",
       "      <td>hard</td>\n",
       "    </tr>\n",
       "    <tr>\n",
       "      <th>4</th>\n",
       "      <td>42.5</td>\n",
       "      <td>303</td>\n",
       "      <td>58</td>\n",
       "      <td>32</td>\n",
       "      <td>purple</td>\n",
       "      <td>63</td>\n",
       "      <td>200</td>\n",
       "      <td>227</td>\n",
       "      <td>breaking</td>\n",
       "    </tr>\n",
       "  </tbody>\n",
       "</table>\n",
       "</div>"
      ],
      "text/plain": [
       "   firmness  hue  saturation  brightness color_category  sound_db  weight_g  \\\n",
       "0      14.5   19          40          26          black        34       175   \n",
       "1      71.7   53          69          75          green        69       206   \n",
       "2      88.5   60          94          46     dark green        79       220   \n",
       "3      93.8  105          87          41     dark green        75       299   \n",
       "4      42.5  303          58          32         purple        63       200   \n",
       "\n",
       "   size_cm3         ripeness  \n",
       "0       261             ripe  \n",
       "1       185  pre-conditioned  \n",
       "2       143             hard  \n",
       "3       140             hard  \n",
       "4       227         breaking  "
      ]
     },
     "execution_count": 77,
     "metadata": {},
     "output_type": "execute_result"
    }
   ],
   "source": [
    "df.head()"
   ]
  },
  {
   "cell_type": "code",
   "execution_count": 78,
   "id": "1300f564",
   "metadata": {},
   "outputs": [
    {
     "data": {
      "text/html": [
       "<div>\n",
       "<style scoped>\n",
       "    .dataframe tbody tr th:only-of-type {\n",
       "        vertical-align: middle;\n",
       "    }\n",
       "\n",
       "    .dataframe tbody tr th {\n",
       "        vertical-align: top;\n",
       "    }\n",
       "\n",
       "    .dataframe thead th {\n",
       "        text-align: right;\n",
       "    }\n",
       "</style>\n",
       "<table border=\"1\" class=\"dataframe\">\n",
       "  <thead>\n",
       "    <tr style=\"text-align: right;\">\n",
       "      <th></th>\n",
       "      <th>firmness</th>\n",
       "      <th>hue</th>\n",
       "      <th>saturation</th>\n",
       "      <th>brightness</th>\n",
       "      <th>color_category</th>\n",
       "      <th>sound_db</th>\n",
       "      <th>weight_g</th>\n",
       "      <th>size_cm3</th>\n",
       "      <th>ripeness</th>\n",
       "    </tr>\n",
       "  </thead>\n",
       "  <tbody>\n",
       "    <tr>\n",
       "      <th>245</th>\n",
       "      <td>94.1</td>\n",
       "      <td>83</td>\n",
       "      <td>80</td>\n",
       "      <td>58</td>\n",
       "      <td>dark green</td>\n",
       "      <td>72</td>\n",
       "      <td>254</td>\n",
       "      <td>134</td>\n",
       "      <td>hard</td>\n",
       "    </tr>\n",
       "    <tr>\n",
       "      <th>246</th>\n",
       "      <td>21.6</td>\n",
       "      <td>17</td>\n",
       "      <td>36</td>\n",
       "      <td>19</td>\n",
       "      <td>black</td>\n",
       "      <td>47</td>\n",
       "      <td>182</td>\n",
       "      <td>240</td>\n",
       "      <td>firm-ripe</td>\n",
       "    </tr>\n",
       "    <tr>\n",
       "      <th>247</th>\n",
       "      <td>14.0</td>\n",
       "      <td>4</td>\n",
       "      <td>40</td>\n",
       "      <td>17</td>\n",
       "      <td>black</td>\n",
       "      <td>37</td>\n",
       "      <td>188</td>\n",
       "      <td>274</td>\n",
       "      <td>ripe</td>\n",
       "    </tr>\n",
       "    <tr>\n",
       "      <th>248</th>\n",
       "      <td>61.5</td>\n",
       "      <td>63</td>\n",
       "      <td>87</td>\n",
       "      <td>75</td>\n",
       "      <td>green</td>\n",
       "      <td>65</td>\n",
       "      <td>261</td>\n",
       "      <td>162</td>\n",
       "      <td>pre-conditioned</td>\n",
       "    </tr>\n",
       "    <tr>\n",
       "      <th>249</th>\n",
       "      <td>17.8</td>\n",
       "      <td>27</td>\n",
       "      <td>30</td>\n",
       "      <td>36</td>\n",
       "      <td>black</td>\n",
       "      <td>40</td>\n",
       "      <td>190</td>\n",
       "      <td>272</td>\n",
       "      <td>ripe</td>\n",
       "    </tr>\n",
       "  </tbody>\n",
       "</table>\n",
       "</div>"
      ],
      "text/plain": [
       "     firmness  hue  saturation  brightness color_category  sound_db  weight_g  \\\n",
       "245      94.1   83          80          58     dark green        72       254   \n",
       "246      21.6   17          36          19          black        47       182   \n",
       "247      14.0    4          40          17          black        37       188   \n",
       "248      61.5   63          87          75          green        65       261   \n",
       "249      17.8   27          30          36          black        40       190   \n",
       "\n",
       "     size_cm3         ripeness  \n",
       "245       134             hard  \n",
       "246       240        firm-ripe  \n",
       "247       274             ripe  \n",
       "248       162  pre-conditioned  \n",
       "249       272             ripe  "
      ]
     },
     "execution_count": 78,
     "metadata": {},
     "output_type": "execute_result"
    }
   ],
   "source": [
    "df.tail()"
   ]
  },
  {
   "cell_type": "code",
   "execution_count": 79,
   "id": "e868d263",
   "metadata": {},
   "outputs": [
    {
     "name": "stdout",
     "output_type": "stream",
     "text": [
      "<class 'pandas.core.frame.DataFrame'>\n",
      "RangeIndex: 250 entries, 0 to 249\n",
      "Data columns (total 9 columns):\n",
      " #   Column          Non-Null Count  Dtype  \n",
      "---  ------          --------------  -----  \n",
      " 0   firmness        250 non-null    float64\n",
      " 1   hue             250 non-null    int64  \n",
      " 2   saturation      250 non-null    int64  \n",
      " 3   brightness      250 non-null    int64  \n",
      " 4   color_category  250 non-null    object \n",
      " 5   sound_db        250 non-null    int64  \n",
      " 6   weight_g        250 non-null    int64  \n",
      " 7   size_cm3        250 non-null    int64  \n",
      " 8   ripeness        250 non-null    object \n",
      "dtypes: float64(1), int64(6), object(2)\n",
      "memory usage: 17.7+ KB\n"
     ]
    }
   ],
   "source": [
    "df.info()"
   ]
  },
  {
   "cell_type": "code",
   "execution_count": 80,
   "id": "a05d493f",
   "metadata": {},
   "outputs": [
    {
     "data": {
      "text/html": [
       "<div>\n",
       "<style scoped>\n",
       "    .dataframe tbody tr th:only-of-type {\n",
       "        vertical-align: middle;\n",
       "    }\n",
       "\n",
       "    .dataframe tbody tr th {\n",
       "        vertical-align: top;\n",
       "    }\n",
       "\n",
       "    .dataframe thead th {\n",
       "        text-align: right;\n",
       "    }\n",
       "</style>\n",
       "<table border=\"1\" class=\"dataframe\">\n",
       "  <thead>\n",
       "    <tr style=\"text-align: right;\">\n",
       "      <th></th>\n",
       "      <th>firmness</th>\n",
       "      <th>hue</th>\n",
       "      <th>saturation</th>\n",
       "      <th>brightness</th>\n",
       "      <th>sound_db</th>\n",
       "      <th>weight_g</th>\n",
       "      <th>size_cm3</th>\n",
       "    </tr>\n",
       "  </thead>\n",
       "  <tbody>\n",
       "    <tr>\n",
       "      <th>count</th>\n",
       "      <td>250.000000</td>\n",
       "      <td>250.00000</td>\n",
       "      <td>250.000000</td>\n",
       "      <td>250.00000</td>\n",
       "      <td>250.000000</td>\n",
       "      <td>250.000000</td>\n",
       "      <td>250.000000</td>\n",
       "    </tr>\n",
       "    <tr>\n",
       "      <th>mean</th>\n",
       "      <td>50.618400</td>\n",
       "      <td>125.94400</td>\n",
       "      <td>64.356000</td>\n",
       "      <td>45.07200</td>\n",
       "      <td>58.016000</td>\n",
       "      <td>220.188000</td>\n",
       "      <td>208.644000</td>\n",
       "    </tr>\n",
       "    <tr>\n",
       "      <th>std</th>\n",
       "      <td>27.277678</td>\n",
       "      <td>117.13767</td>\n",
       "      <td>17.377144</td>\n",
       "      <td>19.11629</td>\n",
       "      <td>13.838126</td>\n",
       "      <td>34.405225</td>\n",
       "      <td>55.940564</td>\n",
       "    </tr>\n",
       "    <tr>\n",
       "      <th>min</th>\n",
       "      <td>10.300000</td>\n",
       "      <td>1.00000</td>\n",
       "      <td>30.000000</td>\n",
       "      <td>10.00000</td>\n",
       "      <td>30.000000</td>\n",
       "      <td>152.000000</td>\n",
       "      <td>100.000000</td>\n",
       "    </tr>\n",
       "    <tr>\n",
       "      <th>25%</th>\n",
       "      <td>25.750000</td>\n",
       "      <td>25.25000</td>\n",
       "      <td>51.250000</td>\n",
       "      <td>31.00000</td>\n",
       "      <td>47.250000</td>\n",
       "      <td>193.250000</td>\n",
       "      <td>155.250000</td>\n",
       "    </tr>\n",
       "    <tr>\n",
       "      <th>50%</th>\n",
       "      <td>48.950000</td>\n",
       "      <td>77.00000</td>\n",
       "      <td>65.000000</td>\n",
       "      <td>46.00000</td>\n",
       "      <td>60.000000</td>\n",
       "      <td>220.000000</td>\n",
       "      <td>218.000000</td>\n",
       "    </tr>\n",
       "    <tr>\n",
       "      <th>75%</th>\n",
       "      <td>74.050000</td>\n",
       "      <td>278.75000</td>\n",
       "      <td>76.750000</td>\n",
       "      <td>58.00000</td>\n",
       "      <td>68.000000</td>\n",
       "      <td>245.000000</td>\n",
       "      <td>260.500000</td>\n",
       "    </tr>\n",
       "    <tr>\n",
       "      <th>max</th>\n",
       "      <td>98.800000</td>\n",
       "      <td>329.00000</td>\n",
       "      <td>99.000000</td>\n",
       "      <td>78.00000</td>\n",
       "      <td>79.000000</td>\n",
       "      <td>299.000000</td>\n",
       "      <td>299.000000</td>\n",
       "    </tr>\n",
       "  </tbody>\n",
       "</table>\n",
       "</div>"
      ],
      "text/plain": [
       "         firmness        hue  saturation  brightness    sound_db    weight_g  \\\n",
       "count  250.000000  250.00000  250.000000   250.00000  250.000000  250.000000   \n",
       "mean    50.618400  125.94400   64.356000    45.07200   58.016000  220.188000   \n",
       "std     27.277678  117.13767   17.377144    19.11629   13.838126   34.405225   \n",
       "min     10.300000    1.00000   30.000000    10.00000   30.000000  152.000000   \n",
       "25%     25.750000   25.25000   51.250000    31.00000   47.250000  193.250000   \n",
       "50%     48.950000   77.00000   65.000000    46.00000   60.000000  220.000000   \n",
       "75%     74.050000  278.75000   76.750000    58.00000   68.000000  245.000000   \n",
       "max     98.800000  329.00000   99.000000    78.00000   79.000000  299.000000   \n",
       "\n",
       "         size_cm3  \n",
       "count  250.000000  \n",
       "mean   208.644000  \n",
       "std     55.940564  \n",
       "min    100.000000  \n",
       "25%    155.250000  \n",
       "50%    218.000000  \n",
       "75%    260.500000  \n",
       "max    299.000000  "
      ]
     },
     "execution_count": 80,
     "metadata": {},
     "output_type": "execute_result"
    }
   ],
   "source": [
    "df.describe()"
   ]
  },
  {
   "cell_type": "markdown",
   "id": "dc35fc24",
   "metadata": {},
   "source": [
    "Checking the distribution of the each variables"
   ]
  },
  {
   "cell_type": "code",
   "execution_count": 81,
   "id": "f46c687d",
   "metadata": {},
   "outputs": [
    {
     "name": "stderr",
     "output_type": "stream",
     "text": [
      "c:\\Users\\arvee\\anaconda3\\Lib\\site-packages\\seaborn\\_oldcore.py:1119: FutureWarning: use_inf_as_na option is deprecated and will be removed in a future version. Convert inf values to NaN before operating instead.\n",
      "  with pd.option_context('mode.use_inf_as_na', True):\n",
      "c:\\Users\\arvee\\anaconda3\\Lib\\site-packages\\seaborn\\_oldcore.py:1119: FutureWarning: use_inf_as_na option is deprecated and will be removed in a future version. Convert inf values to NaN before operating instead.\n",
      "  with pd.option_context('mode.use_inf_as_na', True):\n",
      "c:\\Users\\arvee\\anaconda3\\Lib\\site-packages\\seaborn\\_oldcore.py:1119: FutureWarning: use_inf_as_na option is deprecated and will be removed in a future version. Convert inf values to NaN before operating instead.\n",
      "  with pd.option_context('mode.use_inf_as_na', True):\n",
      "c:\\Users\\arvee\\anaconda3\\Lib\\site-packages\\seaborn\\_oldcore.py:1119: FutureWarning: use_inf_as_na option is deprecated and will be removed in a future version. Convert inf values to NaN before operating instead.\n",
      "  with pd.option_context('mode.use_inf_as_na', True):\n",
      "c:\\Users\\arvee\\anaconda3\\Lib\\site-packages\\seaborn\\_oldcore.py:1119: FutureWarning: use_inf_as_na option is deprecated and will be removed in a future version. Convert inf values to NaN before operating instead.\n",
      "  with pd.option_context('mode.use_inf_as_na', True):\n",
      "c:\\Users\\arvee\\anaconda3\\Lib\\site-packages\\seaborn\\_oldcore.py:1119: FutureWarning: use_inf_as_na option is deprecated and will be removed in a future version. Convert inf values to NaN before operating instead.\n",
      "  with pd.option_context('mode.use_inf_as_na', True):\n",
      "c:\\Users\\arvee\\anaconda3\\Lib\\site-packages\\seaborn\\_oldcore.py:1119: FutureWarning: use_inf_as_na option is deprecated and will be removed in a future version. Convert inf values to NaN before operating instead.\n",
      "  with pd.option_context('mode.use_inf_as_na', True):\n"
     ]
    },
    {
     "data": {
      "image/png": "[encoded data removed]",
      "text/plain": [
       "<Figure size 1600x800 with 8 Axes>"
      ]
     },
     "metadata": {},
     "output_type": "display_data"
    }
   ],
   "source": [
    "fig, axes= plt.subplots(2,4, figsize=(16,8))\n",
    "#Firmness Distribution\n",
    "sns.histplot(data=df, x=\"firmness\", kde=True, ax=axes[0,0])\n",
    "axes[0,0].set_title(\"Histogram of the Firmness\")\n",
    "\n",
    "sns.histplot(data=df,x=\"hue\",kde=True,ax=axes[0,1])\n",
    "axes[0,1].set_title(\"Histogram of the Hue\")\n",
    "\n",
    "sns.histplot(data=df, x=\"saturation\",kde=True, ax=axes[1,0])\n",
    "axes[1,0].set_title(\"Histogram of the Saturation\")\n",
    "\n",
    "sns.histplot(data=df,x=\"brightness\",kde=True, ax=axes[1,1])\n",
    "axes[1,1].set_title(\"Histogram of the Brightness\")\n",
    "\n",
    "sns.histplot(data=df,x=\"sound_db\", kde=True, ax=axes[0,2])\n",
    "axes[0,2].set_title(\"Histogram of the Sound DB\")\n",
    "\n",
    "sns.histplot(data=df,x=\"weight_g\", kde=True, ax=axes[1,2])\n",
    "axes[1,2].set_title(\"Histogram of the Weight(g)\")\n",
    "\n",
    "sns.histplot(data=df,x=\"size_cm3\",kde=True, ax=axes[0,3])\n",
    "axes[0,3].set_title(\"Histogram of the Size(cm^3)\")\n",
    "\n",
    "#Pad controls distance from the plot\n",
    "plt.tight_layout()\n",
    "fig.subplots_adjust(hspace=0.4)\n"
   ]
  },
  {
   "cell_type": "markdown",
   "id": "d6e9d606",
   "metadata": {},
   "source": [
    "Since color_category and ripeness are object, we would like to see the frequency on each category."
   ]
  },
  {
   "cell_type": "code",
   "execution_count": 82,
   "id": "18af0955",
   "metadata": {},
   "outputs": [
    {
     "data": {
      "text/plain": [
       "color_category\n",
       "black         75\n",
       "purple        75\n",
       "green         50\n",
       "dark green    50\n",
       "Name: count, dtype: int64"
      ]
     },
     "execution_count": 82,
     "metadata": {},
     "output_type": "execute_result"
    }
   ],
   "source": [
    "df[\"color_category\"].value_counts()"
   ]
  },
  {
   "cell_type": "code",
   "execution_count": 83,
   "id": "bbb45a17",
   "metadata": {},
   "outputs": [
    {
     "data": {
      "text/plain": [
       "ripeness\n",
       "ripe               50\n",
       "pre-conditioned    50\n",
       "hard               50\n",
       "breaking           50\n",
       "firm-ripe          50\n",
       "Name: count, dtype: int64"
      ]
     },
     "execution_count": 83,
     "metadata": {},
     "output_type": "execute_result"
    }
   ],
   "source": [
    "df[\"ripeness\"].value_counts()"
   ]
  },
  {
   "cell_type": "markdown",
   "id": "da2568d0",
   "metadata": {},
   "source": [
    "Checking if there are any missing values"
   ]
  },
  {
   "cell_type": "code",
   "execution_count": 84,
   "id": "65725467",
   "metadata": {},
   "outputs": [
    {
     "data": {
      "text/plain": [
       "firmness          0\n",
       "hue               0\n",
       "saturation        0\n",
       "brightness        0\n",
       "color_category    0\n",
       "sound_db          0\n",
       "weight_g          0\n",
       "size_cm3          0\n",
       "ripeness          0\n",
       "dtype: int64"
      ]
     },
     "execution_count": 84,
     "metadata": {},
     "output_type": "execute_result"
    }
   ],
   "source": [
    "df.isna().sum()"
   ]
  },
  {
   "cell_type": "markdown",
   "id": "c96f78b7",
   "metadata": {},
   "source": [
    "### Random Forest Classifier"
   ]
  },
  {
   "cell_type": "markdown",
   "id": "84ed6845",
   "metadata": {},
   "source": [
    "Data Splitting "
   ]
  },
  {
   "cell_type": "code",
   "execution_count": 85,
   "id": "846092fe",
   "metadata": {},
   "outputs": [],
   "source": [
    "X =df.drop(columns=[\"ripeness\"])\n",
    "y= df[\"ripeness\"]"
   ]
  },
  {
   "cell_type": "code",
   "execution_count": 86,
   "id": "4b967811",
   "metadata": {},
   "outputs": [],
   "source": [
    "X_train, X_test, y_train, y_test = train_test_split(X,y, test_size=0.2, random_state=42, stratify=y)"
   ]
  },
  {
   "cell_type": "markdown",
   "id": "4aceb4b6",
   "metadata": {},
   "source": [
    "Data Processing"
   ]
  },
  {
   "cell_type": "code",
   "execution_count": 87,
   "id": "379a6aa8",
   "metadata": {},
   "outputs": [],
   "source": [
    "preprocessor = ColumnTransformer(transformers=[\n",
    "    ('num', StandardScaler(),['firmness','hue','saturation','brightness','sound_db','weight_g',\"size_cm3\"]),\n",
    "    ('cat', OneHotEncoder(),[\"color_category\"])\n",
    "])"
   ]
  },
  {
   "cell_type": "markdown",
   "id": "eece003f",
   "metadata": {},
   "source": [
    "Pipelining"
   ]
  },
  {
   "cell_type": "code",
   "execution_count": 89,
   "id": "620a3a59",
   "metadata": {},
   "outputs": [],
   "source": [
    "pipe= Pipeline([\n",
    "    ('preprocess', preprocessor),\n",
    "    ('clf',RandomForestClassifier(random_state=42))\n",
    "])"
   ]
  },
  {
   "cell_type": "markdown",
   "id": "076a3273",
   "metadata": {},
   "source": [
    "Grid Search"
   ]
  },
  {
   "cell_type": "code",
   "execution_count": 97,
   "id": "89132132",
   "metadata": {},
   "outputs": [],
   "source": [
    "param_grid = {\n",
    "    'clf__n_estimators':[50,100],\n",
    "    'clf__max_depth':[None,5,10],\n",
    "    'clf__min_samples_split':[2,5],\n",
    "    'clf__min_samples_leaf':[1,2]\n",
    "}"
   ]
  },
  {
   "cell_type": "code",
   "execution_count": 98,
   "id": "590db38c",
   "metadata": {},
   "outputs": [
    {
     "data": {
      "text/html": [
       "<style>#sk-container-id-3 {color: black;background-color: white;}#sk-container-id-3 pre{padding: 0;}#sk-container-id-3 div.sk-toggleable {background-color: white;}#sk-container-id-3 label.sk-toggleable__label {cursor: pointer;display: block;width: 100%;margin-bottom: 0;padding: 0.3em;box-sizing: border-box;text-align: center;}#sk-container-id-3 label.sk-toggleable__label-arrow:before {content: \"▸\";float: left;margin-right: 0.25em;color: #696969;}#sk-container-id-3 label.sk-toggleable__label-arrow:hover:before {color: black;}#sk-container-id-3 div.sk-estimator:hover label.sk-toggleable__label-arrow:before {color: black;}#sk-container-id-3 div.sk-toggleable__content {max-height: 0;max-width: 0;overflow: hidden;text-align: left;background-color: #f0f8ff;}#sk-container-id-3 div.sk-toggleable__content pre {margin: 0.2em;color: black;border-radius: 0.25em;background-color: #f0f8ff;}#sk-container-id-3 input.sk-toggleable__control:checked~div.sk-toggleable__content {max-height: 200px;max-width: 100%;overflow: auto;}#sk-container-id-3 input.sk-toggleable__control:checked~label.sk-toggleable__label-arrow:before {content: \"▾\";}#sk-container-id-3 div.sk-estimator input.sk-toggleable__control:checked~label.sk-toggleable__label {background-color: #d4ebff;}#sk-container-id-3 div.sk-label input.sk-toggleable__control:checked~label.sk-toggleable__label {background-color: #d4ebff;}#sk-container-id-3 input.sk-hidden--visually {border: 0;clip: rect(1px 1px 1px 1px);clip: rect(1px, 1px, 1px, 1px);height: 1px;margin: -1px;overflow: hidden;padding: 0;position: absolute;width: 1px;}#sk-container-id-3 div.sk-estimator {font-family: monospace;background-color: #f0f8ff;border: 1px dotted black;border-radius: 0.25em;box-sizing: border-box;margin-bottom: 0.5em;}#sk-container-id-3 div.sk-estimator:hover {background-color: #d4ebff;}#sk-container-id-3 div.sk-parallel-item::after {content: \"\";width: 100%;border-bottom: 1px solid gray;flex-grow: 1;}#sk-container-id-3 div.sk-label:hover label.sk-toggleable__label {background-color: #d4ebff;}#sk-container-id-3 div.sk-serial::before {content: \"\";position: absolute;border-left: 1px solid gray;box-sizing: border-box;top: 0;bottom: 0;left: 50%;z-index: 0;}#sk-container-id-3 div.sk-serial {display: flex;flex-direction: column;align-items: center;background-color: white;padding-right: 0.2em;padding-left: 0.2em;position: relative;}#sk-container-id-3 div.sk-item {position: relative;z-index: 1;}#sk-container-id-3 div.sk-parallel {display: flex;align-items: stretch;justify-content: center;background-color: white;position: relative;}#sk-container-id-3 div.sk-item::before, #sk-container-id-3 div.sk-parallel-item::before {content: \"\";position: absolute;border-left: 1px solid gray;box-sizing: border-box;top: 0;bottom: 0;left: 50%;z-index: -1;}#sk-container-id-3 div.sk-parallel-item {display: flex;flex-direction: column;z-index: 1;position: relative;background-color: white;}#sk-container-id-3 div.sk-parallel-item:first-child::after {align-self: flex-end;width: 50%;}#sk-container-id-3 div.sk-parallel-item:last-child::after {align-self: flex-start;width: 50%;}#sk-container-id-3 div.sk-parallel-item:only-child::after {width: 0;}#sk-container-id-3 div.sk-dashed-wrapped {border: 1px dashed gray;margin: 0 0.4em 0.5em 0.4em;box-sizing: border-box;padding-bottom: 0.4em;background-color: white;}#sk-container-id-3 div.sk-label label {font-family: monospace;font-weight: bold;display: inline-block;line-height: 1.2em;}#sk-container-id-3 div.sk-label-container {text-align: center;}#sk-container-id-3 div.sk-container {/* jupyter's `normalize.less` sets `[hidden] { display: none; }` but bootstrap.min.css set `[hidden] { display: none !important; }` so we also need the `!important` here to be able to override the default hidden behavior on the sphinx rendered scikit-learn.org. See: https://github.com/scikit-learn/scikit-learn/issues/21755 */display: inline-block !important;position: relative;}#sk-container-id-3 div.sk-text-repr-fallback {display: none;}</style><div id=\"sk-container-id-3\" class=\"sk-top-container\"><div class=\"sk-text-repr-fallback\"><pre>GridSearchCV(cv=10,\n",
       "             estimator=Pipeline(steps=[(&#x27;preprocess&#x27;,\n",
       "                                        ColumnTransformer(transformers=[(&#x27;num&#x27;,\n",
       "                                                                         StandardScaler(),\n",
       "                                                                         [&#x27;firmness&#x27;,\n",
       "                                                                          &#x27;hue&#x27;,\n",
       "                                                                          &#x27;saturation&#x27;,\n",
       "                                                                          &#x27;brightness&#x27;,\n",
       "                                                                          &#x27;sound_db&#x27;,\n",
       "                                                                          &#x27;weight_g&#x27;,\n",
       "                                                                          &#x27;size_cm3&#x27;]),\n",
       "                                                                        (&#x27;cat&#x27;,\n",
       "                                                                         OneHotEncoder(),\n",
       "                                                                         [&#x27;color_category&#x27;])])),\n",
       "                                       (&#x27;clf&#x27;,\n",
       "                                        RandomForestClassifier(random_state=42))]),\n",
       "             n_jobs=-1,\n",
       "             param_grid={&#x27;clf__max_depth&#x27;: [None, 5, 10],\n",
       "                         &#x27;clf__min_samples_leaf&#x27;: [1, 2],\n",
       "                         &#x27;clf__min_samples_split&#x27;: [2, 5],\n",
       "                         &#x27;clf__n_estimators&#x27;: [50, 100]},\n",
       "             scoring=&#x27;accuracy&#x27;)</pre><b>In a Jupyter environment, please rerun this cell to show the HTML representation or trust the notebook. <br />On GitHub, the HTML representation is unable to render, please try loading this page with nbviewer.org.</b></div><div class=\"sk-container\" hidden><div class=\"sk-item sk-dashed-wrapped\"><div class=\"sk-label-container\"><div class=\"sk-label sk-toggleable\"><input class=\"sk-toggleable__control sk-hidden--visually\" id=\"sk-estimator-id-17\" type=\"checkbox\" ><label for=\"sk-estimator-id-17\" class=\"sk-toggleable__label sk-toggleable__label-arrow\">GridSearchCV</label><div class=\"sk-toggleable__content\"><pre>GridSearchCV(cv=10,\n",
       "             estimator=Pipeline(steps=[(&#x27;preprocess&#x27;,\n",
       "                                        ColumnTransformer(transformers=[(&#x27;num&#x27;,\n",
       "                                                                         StandardScaler(),\n",
       "                                                                         [&#x27;firmness&#x27;,\n",
       "                                                                          &#x27;hue&#x27;,\n",
       "                                                                          &#x27;saturation&#x27;,\n",
       "                                                                          &#x27;brightness&#x27;,\n",
       "                                                                          &#x27;sound_db&#x27;,\n",
       "                                                                          &#x27;weight_g&#x27;,\n",
       "                                                                          &#x27;size_cm3&#x27;]),\n",
       "                                                                        (&#x27;cat&#x27;,\n",
       "                                                                         OneHotEncoder(),\n",
       "                                                                         [&#x27;color_category&#x27;])])),\n",
       "                                       (&#x27;clf&#x27;,\n",
       "                                        RandomForestClassifier(random_state=42))]),\n",
       "             n_jobs=-1,\n",
       "             param_grid={&#x27;clf__max_depth&#x27;: [None, 5, 10],\n",
       "                         &#x27;clf__min_samples_leaf&#x27;: [1, 2],\n",
       "                         &#x27;clf__min_samples_split&#x27;: [2, 5],\n",
       "                         &#x27;clf__n_estimators&#x27;: [50, 100]},\n",
       "             scoring=&#x27;accuracy&#x27;)</pre></div></div></div><div class=\"sk-parallel\"><div class=\"sk-parallel-item\"><div class=\"sk-item\"><div class=\"sk-label-container\"><div class=\"sk-label sk-toggleable\"><input class=\"sk-toggleable__control sk-hidden--visually\" id=\"sk-estimator-id-18\" type=\"checkbox\" ><label for=\"sk-estimator-id-18\" class=\"sk-toggleable__label sk-toggleable__label-arrow\">estimator: Pipeline</label><div class=\"sk-toggleable__content\"><pre>Pipeline(steps=[(&#x27;preprocess&#x27;,\n",
       "                 ColumnTransformer(transformers=[(&#x27;num&#x27;, StandardScaler(),\n",
       "                                                  [&#x27;firmness&#x27;, &#x27;hue&#x27;,\n",
       "                                                   &#x27;saturation&#x27;, &#x27;brightness&#x27;,\n",
       "                                                   &#x27;sound_db&#x27;, &#x27;weight_g&#x27;,\n",
       "                                                   &#x27;size_cm3&#x27;]),\n",
       "                                                 (&#x27;cat&#x27;, OneHotEncoder(),\n",
       "                                                  [&#x27;color_category&#x27;])])),\n",
       "                (&#x27;clf&#x27;, RandomForestClassifier(random_state=42))])</pre></div></div></div><div class=\"sk-serial\"><div class=\"sk-item\"><div class=\"sk-serial\"><div class=\"sk-item sk-dashed-wrapped\"><div class=\"sk-label-container\"><div class=\"sk-label sk-toggleable\"><input class=\"sk-toggleable__control sk-hidden--visually\" id=\"sk-estimator-id-19\" type=\"checkbox\" ><label for=\"sk-estimator-id-19\" class=\"sk-toggleable__label sk-toggleable__label-arrow\">preprocess: ColumnTransformer</label><div class=\"sk-toggleable__content\"><pre>ColumnTransformer(transformers=[(&#x27;num&#x27;, StandardScaler(),\n",
       "                                 [&#x27;firmness&#x27;, &#x27;hue&#x27;, &#x27;saturation&#x27;, &#x27;brightness&#x27;,\n",
       "                                  &#x27;sound_db&#x27;, &#x27;weight_g&#x27;, &#x27;size_cm3&#x27;]),\n",
       "                                (&#x27;cat&#x27;, OneHotEncoder(), [&#x27;color_category&#x27;])])</pre></div></div></div><div class=\"sk-parallel\"><div class=\"sk-parallel-item\"><div class=\"sk-item\"><div class=\"sk-label-container\"><div class=\"sk-label sk-toggleable\"><input class=\"sk-toggleable__control sk-hidden--visually\" id=\"sk-estimator-id-20\" type=\"checkbox\" ><label for=\"sk-estimator-id-20\" class=\"sk-toggleable__label sk-toggleable__label-arrow\">num</label><div class=\"sk-toggleable__content\"><pre>[&#x27;firmness&#x27;, &#x27;hue&#x27;, &#x27;saturation&#x27;, &#x27;brightness&#x27;, &#x27;sound_db&#x27;, &#x27;weight_g&#x27;, &#x27;size_cm3&#x27;]</pre></div></div></div><div class=\"sk-serial\"><div class=\"sk-item\"><div class=\"sk-estimator sk-toggleable\"><input class=\"sk-toggleable__control sk-hidden--visually\" id=\"sk-estimator-id-21\" type=\"checkbox\" ><label for=\"sk-estimator-id-21\" class=\"sk-toggleable__label sk-toggleable__label-arrow\">StandardScaler</label><div class=\"sk-toggleable__content\"><pre>StandardScaler()</pre></div></div></div></div></div></div><div class=\"sk-parallel-item\"><div class=\"sk-item\"><div class=\"sk-label-container\"><div class=\"sk-label sk-toggleable\"><input class=\"sk-toggleable__control sk-hidden--visually\" id=\"sk-estimator-id-22\" type=\"checkbox\" ><label for=\"sk-estimator-id-22\" class=\"sk-toggleable__label sk-toggleable__label-arrow\">cat</label><div class=\"sk-toggleable__content\"><pre>[&#x27;color_category&#x27;]</pre></div></div></div><div class=\"sk-serial\"><div class=\"sk-item\"><div class=\"sk-estimator sk-toggleable\"><input class=\"sk-toggleable__control sk-hidden--visually\" id=\"sk-estimator-id-23\" type=\"checkbox\" ><label for=\"sk-estimator-id-23\" class=\"sk-toggleable__label sk-toggleable__label-arrow\">OneHotEncoder</label><div class=\"sk-toggleable__content\"><pre>OneHotEncoder()</pre></div></div></div></div></div></div></div></div><div class=\"sk-item\"><div class=\"sk-estimator sk-toggleable\"><input class=\"sk-toggleable__control sk-hidden--visually\" id=\"sk-estimator-id-24\" type=\"checkbox\" ><label for=\"sk-estimator-id-24\" class=\"sk-toggleable__label sk-toggleable__label-arrow\">RandomForestClassifier</label><div class=\"sk-toggleable__content\"><pre>RandomForestClassifier(random_state=42)</pre></div></div></div></div></div></div></div></div></div></div></div></div>"
      ],
      "text/plain": [
       "GridSearchCV(cv=10,\n",
       "             estimator=Pipeline(steps=[('preprocess',\n",
       "                                        ColumnTransformer(transformers=[('num',\n",
       "                                                                         StandardScaler(),\n",
       "                                                                         ['firmness',\n",
       "                                                                          'hue',\n",
       "                                                                          'saturation',\n",
       "                                                                          'brightness',\n",
       "                                                                          'sound_db',\n",
       "                                                                          'weight_g',\n",
       "                                                                          'size_cm3']),\n",
       "                                                                        ('cat',\n",
       "                                                                         OneHotEncoder(),\n",
       "                                                                         ['color_category'])])),\n",
       "                                       ('clf',\n",
       "                                        RandomForestClassifier(random_state=42))]),\n",
       "             n_jobs=-1,\n",
       "             param_grid={'clf__max_depth': [None, 5, 10],\n",
       "                         'clf__min_samples_leaf': [1, 2],\n",
       "                         'clf__min_samples_split': [2, 5],\n",
       "                         'clf__n_estimators': [50, 100]},\n",
       "             scoring='accuracy')"
      ]
     },
     "execution_count": 98,
     "metadata": {},
     "output_type": "execute_result"
    }
   ],
   "source": [
    "grid = GridSearchCV(pipe, param_grid, cv=10, scoring='accuracy', n_jobs=-1)\n",
    "grid.fit(X_train,y_train)"
   ]
  },
  {
   "cell_type": "markdown",
   "id": "f3f9ef09",
   "metadata": {},
   "source": [
    "Results"
   ]
  },
  {
   "cell_type": "code",
   "execution_count": 99,
   "id": "bfcebdec",
   "metadata": {},
   "outputs": [
    {
     "name": "stdout",
     "output_type": "stream",
     "text": [
      "Best Params: {'clf__max_depth': None, 'clf__min_samples_leaf': 1, 'clf__min_samples_split': 2, 'clf__n_estimators': 50}\n",
      "Best CV Score: 1.0\n",
      "Test Accuracy 1.0\n"
     ]
    }
   ],
   "source": [
    "print(\"Best Params:\", grid.best_params_)\n",
    "print(\"Best CV Score:\", grid.best_score_)\n",
    "\n",
    "# External Validation\n",
    "print(\"Test Accuracy\", grid.score(X_test, y_test))"
   ]
  },
  {
   "cell_type": "code",
   "execution_count": 100,
   "id": "fe37aa05",
   "metadata": {},
   "outputs": [
    {
     "name": "stdout",
     "output_type": "stream",
     "text": [
      "Classification Report:\n",
      "                 precision    recall  f1-score   support\n",
      "\n",
      "       breaking       1.00      1.00      1.00        10\n",
      "      firm-ripe       1.00      1.00      1.00        10\n",
      "           hard       1.00      1.00      1.00        10\n",
      "pre-conditioned       1.00      1.00      1.00        10\n",
      "           ripe       1.00      1.00      1.00        10\n",
      "\n",
      "       accuracy                           1.00        50\n",
      "      macro avg       1.00      1.00      1.00        50\n",
      "   weighted avg       1.00      1.00      1.00        50\n",
      "\n",
      "Confusion Matrix:\n",
      "[[10  0  0  0  0]\n",
      " [ 0 10  0  0  0]\n",
      " [ 0  0 10  0  0]\n",
      " [ 0  0  0 10  0]\n",
      " [ 0  0  0  0 10]]\n"
     ]
    }
   ],
   "source": [
    "y_pred = grid.predict(X_test)\n",
    "print(\"Classification Report:\")\n",
    "print(classification_report(y_test,y_pred))\n",
    "\n",
    "print(\"Confusion Matrix:\")\n",
    "cm= confusion_matrix(y_test,y_pred)\n",
    "print(cm)"
   ]
  },
  {
   "cell_type": "markdown",
   "id": "562b7a0e",
   "metadata": {},
   "source": [
    "For K-NN Classfier"
   ]
  },
  {
   "cell_type": "code",
   "execution_count": 109,
   "id": "ca45d2d7",
   "metadata": {},
   "outputs": [],
   "source": [
    "pipeknn = Pipeline([\n",
    "    ('preprocess', preprocessor),\n",
    "    ('clf', KNeighborsClassifier())\n",
    "])"
   ]
  },
  {
   "cell_type": "code",
   "execution_count": 110,
   "id": "eafbffd1",
   "metadata": {},
   "outputs": [],
   "source": [
    "param_gridknn = {\n",
    "    \"clf__n_neighbors\": list(range(1, 25)),\n",
    "    \"clf__weights\": [\"distance\"],\n",
    "    \"clf__metric\": [\"euclidean\"]\n",
    "}"
   ]
  },
  {
   "cell_type": "code",
   "execution_count": 111,
   "id": "6018f151",
   "metadata": {},
   "outputs": [
    {
     "data": {
      "text/html": [
       "<style>#sk-container-id-4 {color: black;background-color: white;}#sk-container-id-4 pre{padding: 0;}#sk-container-id-4 div.sk-toggleable {background-color: white;}#sk-container-id-4 label.sk-toggleable__label {cursor: pointer;display: block;width: 100%;margin-bottom: 0;padding: 0.3em;box-sizing: border-box;text-align: center;}#sk-container-id-4 label.sk-toggleable__label-arrow:before {content: \"▸\";float: left;margin-right: 0.25em;color: #696969;}#sk-container-id-4 label.sk-toggleable__label-arrow:hover:before {color: black;}#sk-container-id-4 div.sk-estimator:hover label.sk-toggleable__label-arrow:before {color: black;}#sk-container-id-4 div.sk-toggleable__content {max-height: 0;max-width: 0;overflow: hidden;text-align: left;background-color: #f0f8ff;}#sk-container-id-4 div.sk-toggleable__content pre {margin: 0.2em;color: black;border-radius: 0.25em;background-color: #f0f8ff;}#sk-container-id-4 input.sk-toggleable__control:checked~div.sk-toggleable__content {max-height: 200px;max-width: 100%;overflow: auto;}#sk-container-id-4 input.sk-toggleable__control:checked~label.sk-toggleable__label-arrow:before {content: \"▾\";}#sk-container-id-4 div.sk-estimator input.sk-toggleable__control:checked~label.sk-toggleable__label {background-color: #d4ebff;}#sk-container-id-4 div.sk-label input.sk-toggleable__control:checked~label.sk-toggleable__label {background-color: #d4ebff;}#sk-container-id-4 input.sk-hidden--visually {border: 0;clip: rect(1px 1px 1px 1px);clip: rect(1px, 1px, 1px, 1px);height: 1px;margin: -1px;overflow: hidden;padding: 0;position: absolute;width: 1px;}#sk-container-id-4 div.sk-estimator {font-family: monospace;background-color: #f0f8ff;border: 1px dotted black;border-radius: 0.25em;box-sizing: border-box;margin-bottom: 0.5em;}#sk-container-id-4 div.sk-estimator:hover {background-color: #d4ebff;}#sk-container-id-4 div.sk-parallel-item::after {content: \"\";width: 100%;border-bottom: 1px solid gray;flex-grow: 1;}#sk-container-id-4 div.sk-label:hover label.sk-toggleable__label {background-color: #d4ebff;}#sk-container-id-4 div.sk-serial::before {content: \"\";position: absolute;border-left: 1px solid gray;box-sizing: border-box;top: 0;bottom: 0;left: 50%;z-index: 0;}#sk-container-id-4 div.sk-serial {display: flex;flex-direction: column;align-items: center;background-color: white;padding-right: 0.2em;padding-left: 0.2em;position: relative;}#sk-container-id-4 div.sk-item {position: relative;z-index: 1;}#sk-container-id-4 div.sk-parallel {display: flex;align-items: stretch;justify-content: center;background-color: white;position: relative;}#sk-container-id-4 div.sk-item::before, #sk-container-id-4 div.sk-parallel-item::before {content: \"\";position: absolute;border-left: 1px solid gray;box-sizing: border-box;top: 0;bottom: 0;left: 50%;z-index: -1;}#sk-container-id-4 div.sk-parallel-item {display: flex;flex-direction: column;z-index: 1;position: relative;background-color: white;}#sk-container-id-4 div.sk-parallel-item:first-child::after {align-self: flex-end;width: 50%;}#sk-container-id-4 div.sk-parallel-item:last-child::after {align-self: flex-start;width: 50%;}#sk-container-id-4 div.sk-parallel-item:only-child::after {width: 0;}#sk-container-id-4 div.sk-dashed-wrapped {border: 1px dashed gray;margin: 0 0.4em 0.5em 0.4em;box-sizing: border-box;padding-bottom: 0.4em;background-color: white;}#sk-container-id-4 div.sk-label label {font-family: monospace;font-weight: bold;display: inline-block;line-height: 1.2em;}#sk-container-id-4 div.sk-label-container {text-align: center;}#sk-container-id-4 div.sk-container {/* jupyter's `normalize.less` sets `[hidden] { display: none; }` but bootstrap.min.css set `[hidden] { display: none !important; }` so we also need the `!important` here to be able to override the default hidden behavior on the sphinx rendered scikit-learn.org. See: https://github.com/scikit-learn/scikit-learn/issues/21755 */display: inline-block !important;position: relative;}#sk-container-id-4 div.sk-text-repr-fallback {display: none;}</style><div id=\"sk-container-id-4\" class=\"sk-top-container\"><div class=\"sk-text-repr-fallback\"><pre>GridSearchCV(cv=10,\n",
       "             estimator=Pipeline(steps=[(&#x27;preprocess&#x27;,\n",
       "                                        ColumnTransformer(transformers=[(&#x27;num&#x27;,\n",
       "                                                                         StandardScaler(),\n",
       "                                                                         [&#x27;firmness&#x27;,\n",
       "                                                                          &#x27;hue&#x27;,\n",
       "                                                                          &#x27;saturation&#x27;,\n",
       "                                                                          &#x27;brightness&#x27;,\n",
       "                                                                          &#x27;sound_db&#x27;,\n",
       "                                                                          &#x27;weight_g&#x27;,\n",
       "                                                                          &#x27;size_cm3&#x27;]),\n",
       "                                                                        (&#x27;cat&#x27;,\n",
       "                                                                         OneHotEncoder(),\n",
       "                                                                         [&#x27;color_category&#x27;])])),\n",
       "                                       (&#x27;clf&#x27;, KNeighborsClassifier())]),\n",
       "             n_jobs=-1,\n",
       "             param_grid={&#x27;clf__metric&#x27;: [&#x27;euclidean&#x27;],\n",
       "                         &#x27;clf__n_neighbors&#x27;: [1, 2, 3, 4, 5, 6, 7, 8, 9, 10, 11,\n",
       "                                              12, 13, 14, 15, 16, 17, 18, 19,\n",
       "                                              20, 21, 22, 23, 24],\n",
       "                         &#x27;clf__weights&#x27;: [&#x27;distance&#x27;]},\n",
       "             scoring=&#x27;accuracy&#x27;)</pre><b>In a Jupyter environment, please rerun this cell to show the HTML representation or trust the notebook. <br />On GitHub, the HTML representation is unable to render, please try loading this page with nbviewer.org.</b></div><div class=\"sk-container\" hidden><div class=\"sk-item sk-dashed-wrapped\"><div class=\"sk-label-container\"><div class=\"sk-label sk-toggleable\"><input class=\"sk-toggleable__control sk-hidden--visually\" id=\"sk-estimator-id-25\" type=\"checkbox\" ><label for=\"sk-estimator-id-25\" class=\"sk-toggleable__label sk-toggleable__label-arrow\">GridSearchCV</label><div class=\"sk-toggleable__content\"><pre>GridSearchCV(cv=10,\n",
       "             estimator=Pipeline(steps=[(&#x27;preprocess&#x27;,\n",
       "                                        ColumnTransformer(transformers=[(&#x27;num&#x27;,\n",
       "                                                                         StandardScaler(),\n",
       "                                                                         [&#x27;firmness&#x27;,\n",
       "                                                                          &#x27;hue&#x27;,\n",
       "                                                                          &#x27;saturation&#x27;,\n",
       "                                                                          &#x27;brightness&#x27;,\n",
       "                                                                          &#x27;sound_db&#x27;,\n",
       "                                                                          &#x27;weight_g&#x27;,\n",
       "                                                                          &#x27;size_cm3&#x27;]),\n",
       "                                                                        (&#x27;cat&#x27;,\n",
       "                                                                         OneHotEncoder(),\n",
       "                                                                         [&#x27;color_category&#x27;])])),\n",
       "                                       (&#x27;clf&#x27;, KNeighborsClassifier())]),\n",
       "             n_jobs=-1,\n",
       "             param_grid={&#x27;clf__metric&#x27;: [&#x27;euclidean&#x27;],\n",
       "                         &#x27;clf__n_neighbors&#x27;: [1, 2, 3, 4, 5, 6, 7, 8, 9, 10, 11,\n",
       "                                              12, 13, 14, 15, 16, 17, 18, 19,\n",
       "                                              20, 21, 22, 23, 24],\n",
       "                         &#x27;clf__weights&#x27;: [&#x27;distance&#x27;]},\n",
       "             scoring=&#x27;accuracy&#x27;)</pre></div></div></div><div class=\"sk-parallel\"><div class=\"sk-parallel-item\"><div class=\"sk-item\"><div class=\"sk-label-container\"><div class=\"sk-label sk-toggleable\"><input class=\"sk-toggleable__control sk-hidden--visually\" id=\"sk-estimator-id-26\" type=\"checkbox\" ><label for=\"sk-estimator-id-26\" class=\"sk-toggleable__label sk-toggleable__label-arrow\">estimator: Pipeline</label><div class=\"sk-toggleable__content\"><pre>Pipeline(steps=[(&#x27;preprocess&#x27;,\n",
       "                 ColumnTransformer(transformers=[(&#x27;num&#x27;, StandardScaler(),\n",
       "                                                  [&#x27;firmness&#x27;, &#x27;hue&#x27;,\n",
       "                                                   &#x27;saturation&#x27;, &#x27;brightness&#x27;,\n",
       "                                                   &#x27;sound_db&#x27;, &#x27;weight_g&#x27;,\n",
       "                                                   &#x27;size_cm3&#x27;]),\n",
       "                                                 (&#x27;cat&#x27;, OneHotEncoder(),\n",
       "                                                  [&#x27;color_category&#x27;])])),\n",
       "                (&#x27;clf&#x27;, KNeighborsClassifier())])</pre></div></div></div><div class=\"sk-serial\"><div class=\"sk-item\"><div class=\"sk-serial\"><div class=\"sk-item sk-dashed-wrapped\"><div class=\"sk-label-container\"><div class=\"sk-label sk-toggleable\"><input class=\"sk-toggleable__control sk-hidden--visually\" id=\"sk-estimator-id-27\" type=\"checkbox\" ><label for=\"sk-estimator-id-27\" class=\"sk-toggleable__label sk-toggleable__label-arrow\">preprocess: ColumnTransformer</label><div class=\"sk-toggleable__content\"><pre>ColumnTransformer(transformers=[(&#x27;num&#x27;, StandardScaler(),\n",
       "                                 [&#x27;firmness&#x27;, &#x27;hue&#x27;, &#x27;saturation&#x27;, &#x27;brightness&#x27;,\n",
       "                                  &#x27;sound_db&#x27;, &#x27;weight_g&#x27;, &#x27;size_cm3&#x27;]),\n",
       "                                (&#x27;cat&#x27;, OneHotEncoder(), [&#x27;color_category&#x27;])])</pre></div></div></div><div class=\"sk-parallel\"><div class=\"sk-parallel-item\"><div class=\"sk-item\"><div class=\"sk-label-container\"><div class=\"sk-label sk-toggleable\"><input class=\"sk-toggleable__control sk-hidden--visually\" id=\"sk-estimator-id-28\" type=\"checkbox\" ><label for=\"sk-estimator-id-28\" class=\"sk-toggleable__label sk-toggleable__label-arrow\">num</label><div class=\"sk-toggleable__content\"><pre>[&#x27;firmness&#x27;, &#x27;hue&#x27;, &#x27;saturation&#x27;, &#x27;brightness&#x27;, &#x27;sound_db&#x27;, &#x27;weight_g&#x27;, &#x27;size_cm3&#x27;]</pre></div></div></div><div class=\"sk-serial\"><div class=\"sk-item\"><div class=\"sk-estimator sk-toggleable\"><input class=\"sk-toggleable__control sk-hidden--visually\" id=\"sk-estimator-id-29\" type=\"checkbox\" ><label for=\"sk-estimator-id-29\" class=\"sk-toggleable__label sk-toggleable__label-arrow\">StandardScaler</label><div class=\"sk-toggleable__content\"><pre>StandardScaler()</pre></div></div></div></div></div></div><div class=\"sk-parallel-item\"><div class=\"sk-item\"><div class=\"sk-label-container\"><div class=\"sk-label sk-toggleable\"><input class=\"sk-toggleable__control sk-hidden--visually\" id=\"sk-estimator-id-30\" type=\"checkbox\" ><label for=\"sk-estimator-id-30\" class=\"sk-toggleable__label sk-toggleable__label-arrow\">cat</label><div class=\"sk-toggleable__content\"><pre>[&#x27;color_category&#x27;]</pre></div></div></div><div class=\"sk-serial\"><div class=\"sk-item\"><div class=\"sk-estimator sk-toggleable\"><input class=\"sk-toggleable__control sk-hidden--visually\" id=\"sk-estimator-id-31\" type=\"checkbox\" ><label for=\"sk-estimator-id-31\" class=\"sk-toggleable__label sk-toggleable__label-arrow\">OneHotEncoder</label><div class=\"sk-toggleable__content\"><pre>OneHotEncoder()</pre></div></div></div></div></div></div></div></div><div class=\"sk-item\"><div class=\"sk-estimator sk-toggleable\"><input class=\"sk-toggleable__control sk-hidden--visually\" id=\"sk-estimator-id-32\" type=\"checkbox\" ><label for=\"sk-estimator-id-32\" class=\"sk-toggleable__label sk-toggleable__label-arrow\">KNeighborsClassifier</label><div class=\"sk-toggleable__content\"><pre>KNeighborsClassifier()</pre></div></div></div></div></div></div></div></div></div></div></div></div>"
      ],
      "text/plain": [
       "GridSearchCV(cv=10,\n",
       "             estimator=Pipeline(steps=[('preprocess',\n",
       "                                        ColumnTransformer(transformers=[('num',\n",
       "                                                                         StandardScaler(),\n",
       "                                                                         ['firmness',\n",
       "                                                                          'hue',\n",
       "                                                                          'saturation',\n",
       "                                                                          'brightness',\n",
       "                                                                          'sound_db',\n",
       "                                                                          'weight_g',\n",
       "                                                                          'size_cm3']),\n",
       "                                                                        ('cat',\n",
       "                                                                         OneHotEncoder(),\n",
       "                                                                         ['color_category'])])),\n",
       "                                       ('clf', KNeighborsClassifier())]),\n",
       "             n_jobs=-1,\n",
       "             param_grid={'clf__metric': ['euclidean'],\n",
       "                         'clf__n_neighbors': [1, 2, 3, 4, 5, 6, 7, 8, 9, 10, 11,\n",
       "                                              12, 13, 14, 15, 16, 17, 18, 19,\n",
       "                                              20, 21, 22, 23, 24],\n",
       "                         'clf__weights': ['distance']},\n",
       "             scoring='accuracy')"
      ]
     },
     "execution_count": 111,
     "metadata": {},
     "output_type": "execute_result"
    }
   ],
   "source": [
    "gridknn = GridSearchCV(pipeknn, param_gridknn, cv=10, scoring='accuracy', n_jobs=-1)\n",
    "gridknn.fit(X_train,y_train)"
   ]
  },
  {
   "cell_type": "markdown",
   "id": "8b490463",
   "metadata": {},
   "source": [
    "Results"
   ]
  },
  {
   "cell_type": "code",
   "execution_count": 116,
   "id": "87793379",
   "metadata": {},
   "outputs": [
    {
     "name": "stdout",
     "output_type": "stream",
     "text": [
      "Best Params: {'clf__metric': 'euclidean', 'clf__n_neighbors': 1, 'clf__weights': 'distance'}\n",
      "Best CV Score: 0.9949999999999999\n",
      "Test Accuracy 0.98\n"
     ]
    }
   ],
   "source": [
    "print(\"Best Params:\", gridknn.best_params_)\n",
    "print(\"Best CV Score:\", gridknn.best_score_)\n",
    "\n",
    "#External Validation\n",
    "print(\"Test Accuracy\", gridknn.score(X_test, y_test))"
   ]
  },
  {
   "cell_type": "code",
   "execution_count": 117,
   "id": "37b77b15",
   "metadata": {},
   "outputs": [
    {
     "name": "stdout",
     "output_type": "stream",
     "text": [
      "Classification Report:\n",
      "                 precision    recall  f1-score   support\n",
      "\n",
      "       breaking       1.00      1.00      1.00        10\n",
      "      firm-ripe       0.90      1.00      0.95         9\n",
      "           hard       1.00      1.00      1.00        10\n",
      "pre-conditioned       1.00      1.00      1.00        10\n",
      "           ripe       1.00      0.91      0.95        11\n",
      "\n",
      "       accuracy                           0.98        50\n",
      "      macro avg       0.98      0.98      0.98        50\n",
      "   weighted avg       0.98      0.98      0.98        50\n",
      "\n",
      "Confusion Matrix:\n",
      "[[10  0  0  0  0]\n",
      " [ 0 10  0  0  0]\n",
      " [ 0  0 10  0  0]\n",
      " [ 0  0  0 10  0]\n",
      " [ 0  0  0  0 10]]\n"
     ]
    }
   ],
   "source": [
    "y_predknn =gridknn.predict(X_test)\n",
    "\n",
    "print(\"Classification Report:\")\n",
    "print(classification_report(y_predknn, y_test))\n",
    "\n",
    "print(\"Confusion Matrix:\")\n",
    "cmknn = confusion_matrix(y_test,y_predknn)\n",
    "print(cm)"
   ]
  },
  {
   "cell_type": "markdown",
   "id": "5fa79a2a",
   "metadata": {},
   "source": [
    "Summary and Conclusion"
   ]
  },
  {
   "cell_type": "markdown",
   "id": "275ba25d",
   "metadata": {},
   "source": [
    "The Random Forest Classifier achieved an accuracy of 1.000 (100%) during cross-validation and maintained a test accuracy of 1.000, indicating perfect performance in classifying the ripeness of avocados. This suggests that the model was able to fully capture the underlying patterns in the data without overfitting, likely due to its ability to handle both numerical and categorical features effectively while managing feature interactions and noise.\n",
    "\n",
    "On the other hand, the k-Nearest Neighbors (k-NN) classifier yielded a cross-validation accuracy of 0.994 and a test accuracy of 0.980. While slightly lower than Random Forest, k-NN still demonstrated strong generalization ability, misclassifying only a small fraction of samples. This performance confirms that the dataset is highly predictive and that the ripeness of avocados can be accurately inferred using the available features.\n",
    "\n",
    "Conclusion:\n",
    "Among the two models evaluated, the Random Forest Classifier provided the most accurate and consistent performance, making it the most suitable algorithm for classifying avocado ripeness in this study."
   ]
  }
 ],
 "metadata": {
  "kernelspec": {
   "display_name": "base",
   "language": "python",
   "name": "python3"
  },
  "language_info": {
   "codemirror_mode": {
    "name": "ipython",
    "version": 3
   },
   "file_extension": ".py",
   "mimetype": "text/x-python",
   "name": "python",
   "nbconvert_exporter": "python",
   "pygments_lexer": "ipython3",
   "version": "3.11.7"
  }
 },
 "nbformat": 4,
 "nbformat_minor": 5
}
